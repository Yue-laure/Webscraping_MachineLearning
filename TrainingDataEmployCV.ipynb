{
 "cells": [
  {
   "cell_type": "code",
   "execution_count": 128,
   "id": "b8a89316-1300-4f84-9b10-b232d4584a01",
   "metadata": {},
   "outputs": [
    {
     "name": "stdout",
     "output_type": "stream",
     "text": [
      "0       https://www.linkedin.com/in/yue-guo-9ab43b177/\n",
      "1         https://www.linkedin.com/in/ayoub-admessiev/\n",
      "2        https://www.linkedin.com/in/valeria-lapshina/\n",
      "3           https://www.linkedin.com/in/dounia-zoubid/\n",
      "4    https://www.linkedin.com/in/hadi-kudsi-9b711715a/\n",
      "5          https://www.linkedin.com/in/yasserbenali01/\n",
      "6    https://www.linkedin.com/in/evelyne-ai-b08409250/\n",
      "7    https://www.linkedin.com/in/weiran-wang-a91b84...\n",
      "8          https://www.linkedin.com/in/laure-m-girard/\n",
      "9    https://www.linkedin.com/in/nina-mongeot-7461b...\n",
      "Name: CVurl, dtype: object\n"
     ]
    }
   ],
   "source": [
    "import pandas as pd\n",
    "cvUrls=pd.read_csv('./dataDownloadSelenium/cvUrlIT.csv')\n",
    "anounce=pd.read_csv('./dataDownloadSelenium/announce.csv')\n",
    "print(cvUrls['CVurl'])\n",
    "# anounce['OffreUrl']"
   ]
  },
  {
   "cell_type": "code",
   "execution_count": 129,
   "id": "640cb0ff-a86f-4912-9a1e-cb7543e09e34",
   "metadata": {},
   "outputs": [
    {
     "name": "stdout",
     "output_type": "stream",
     "text": [
      "   total_experience_months(mois)  \\\n",
      "0                             11   \n",
      "1                              7   \n",
      "2                             35   \n",
      "3                             16   \n",
      "4                             77   \n",
      "5                            104   \n",
      "6                             39   \n",
      "7                              9   \n",
      "8                            190   \n",
      "9                             51   \n",
      "\n",
      "                             all_descriptions_propre  \n",
      "0  selenium webdriver extraction contenu web angu...  \n",
      "1  développement logiciels anglais javascript htm...  \n",
      "2  anglais français italien russe microsoft power...  \n",
      "3  négociations stratégiques compétences analytiq...  \n",
      "4  devenir expert informatique sein grande entrep...  \n",
      "5  anglais arabic français german spring boot use...  \n",
      "6  chinese english french retail analytical skill...  \n",
      "7  python programming language javascript amazon ...  \n",
      "8  français anglais unity3d microsoft hololens ja...  \n",
      "9  design interface utilisateur création logo ado...  \n",
      "    ExperienceRequirements(mois)  \\\n",
      "0                             24   \n",
      "1                             24   \n",
      "2                              0   \n",
      "3                              0   \n",
      "4                             24   \n",
      "5                             12   \n",
      "6                              0   \n",
      "7                             60   \n",
      "8                             24   \n",
      "9                             24   \n",
      "10                            36   \n",
      "11                           432   \n",
      "12                            36   \n",
      "13                             0   \n",
      "14                             0   \n",
      "15                            60   \n",
      "16                            60   \n",
      "17                            60   \n",
      "18                            60   \n",
      "19                            48   \n",
      "\n",
      "                              all_descriptions_propre  \n",
      "0   développeur full stack - django python react (...  \n",
      "1   développeur full stack - django python react (...  \n",
      "2   développeur ia - machine learning (h/f) La sol...  \n",
      "3   développeur front-end - react (h/f) La solutio...  \n",
      "4   ml ops engineer (h/f) Au cœur de notre entrepr...  \n",
      "5   data engineer r&d team (h/f) Nous recherchons ...  \n",
      "6   ingénieur / ingénieure télécoms Nous rechercho...  \n",
      "7   senior software engineer (h/f) Nous recherchon...  \n",
      "8   développeur react / react developer (f/*/m) (h...  \n",
      "9   developpeur full stack h/f - cdi (h/f) La CRPC...  \n",
      "10  développeur informatique en supervision (h/f) ...  \n",
      "11  tech lead / ingénieur(e) full stack (h/f) Qui ...  \n",
      "12  ingénieur-e java (h/f) Dans le cadre du dévelo...  \n",
      "13  devops (h/f) Missions :\\nAu sein de l'équipe i...  \n",
      "14  développeur / développeuse d'affaires (h/f) Mi...  \n",
      "15  ingénieur développeur / gestion de projet as40...  \n",
      "16  ingénieur développeur / gestion de projet as40...  \n",
      "17  ingénieur développeur/ gestion de projet rpgil...  \n",
      "18  ingénieur programmation gtb-gtc expérimenté (h...  \n",
      "19  développeur / développeuse informatique (h/f) ...  \n"
     ]
    }
   ],
   "source": [
    "df_announce=pd.read_csv('./dataDownloadSelenium/data_announce_propre.csv')\n",
    "df_cv=pd.read_csv('./dataDownloadSelenium/data_cv_propre.csv')\n",
    "print(df_cv)\n",
    "print(df_announce)"
   ]
  },
  {
   "cell_type": "code",
   "execution_count": 130,
   "id": "38db0b3d-5780-4cb3-905f-09b0664ea6db",
   "metadata": {},
   "outputs": [
    {
     "name": "stderr",
     "output_type": "stream",
     "text": [
      "[nltk_data] Downloading package wordnet to\n",
      "[nltk_data]     C:\\Users\\18117\\AppData\\Roaming\\nltk_data...\n",
      "[nltk_data]   Package wordnet is already up-to-date!\n",
      "[nltk_data] Downloading package omw-1.4 to\n",
      "[nltk_data]     C:\\Users\\18117\\AppData\\Roaming\\nltk_data...\n",
      "[nltk_data]   Package omw-1.4 is already up-to-date!\n"
     ]
    }
   ],
   "source": [
    "from nltk.stem import WordNetLemmatizer\n",
    "from nltk.tokenize import word_tokenize\n",
    "import nltk\n",
    "nltk.download('wordnet') # Télécharger les ressources pour le lemmatiseur\n",
    "nltk.download('omw-1.4') # Télécharger les ressources multilingues pour le lemmatiseur\n",
    "\n",
    "# Instancier le lemmatiseur\n",
    "lemmatizer = WordNetLemmatizer()\n",
    "\n",
    "# Définir une fonction pour appliquer la lemmatisation\n",
    "def lemmatize_text(text):\n",
    "    tokens = word_tokenize(text) # Tokeniser le texte\n",
    "    lemmatized_tokens = [lemmatizer.lemmatize(token) for token in tokens]  # Lemmatiser chaque jeton\n",
    "    return ' '.join(lemmatized_tokens) # Rejoindre les jetons lemmatisés en une chaîne de texte\n",
    "\n",
    "# Appliquer la lemmatisation aux données textuelles\n",
    "df_cv['lemmatized_descriptions'] = df_cv['all_descriptions_propre'].apply(lemmatize_text)\n",
    "df_announce['lemmatized_descriptions'] = df_announce['all_descriptions_propre'].apply(lemmatize_text)"
   ]
  },
  {
   "cell_type": "code",
   "execution_count": 131,
   "id": "3a764f80-6590-46b5-83cb-5f4c7586609e",
   "metadata": {},
   "outputs": [
    {
     "name": "stderr",
     "output_type": "stream",
     "text": [
      "[nltk_data] Downloading package stopwords to\n",
      "[nltk_data]     C:\\Users\\18117\\AppData\\Roaming\\nltk_data...\n",
      "[nltk_data]   Package stopwords is already up-to-date!\n"
     ]
    },
    {
     "data": {
      "text/plain": [
       "array([[0.        , 0.        , 0.        , ..., 0.07728647, 0.07728647,\n",
       "        0.07728647],\n",
       "       [0.        , 0.        , 0.        , ..., 0.        , 0.        ,\n",
       "        0.        ],\n",
       "       [0.        , 0.        , 0.        , ..., 0.        , 0.        ,\n",
       "        0.        ],\n",
       "       ...,\n",
       "       [0.        , 0.        , 0.        , ..., 0.        , 0.        ,\n",
       "        0.        ],\n",
       "       [0.        , 0.        , 0.        , ..., 0.        , 0.        ,\n",
       "        0.        ],\n",
       "       [0.        , 0.        , 0.        , ..., 0.        , 0.        ,\n",
       "        0.        ]])"
      ]
     },
     "execution_count": 131,
     "metadata": {},
     "output_type": "execute_result"
    }
   ],
   "source": [
    "from sklearn.feature_extraction.text import TfidfVectorizer\n",
    "import nltk\n",
    "from nltk.corpus import stopwords\n",
    "\n",
    "# Télécharger la liste des mots vides\n",
    "nltk.download('stopwords')\n",
    "\n",
    "# Obtenir la liste des mots vides en français\n",
    "french_stop_words = stopwords.words('french')\n",
    "\n",
    "# Instancier le vectoriseur TF-IDF, en utilisant la liste des mots vides en français\n",
    "tfidf_vectorizer = TfidfVectorizer(max_features=10000, stop_words=french_stop_words)\n",
    "\n",
    "# Fusionner les données textuelles des deux DataFrames pour adapter le vectoriseur\n",
    "all_texts = pd.concat([df_cv['lemmatized_descriptions'], df_announce['lemmatized_descriptions']])\n",
    "\n",
    "# Adapter et transformer les données\n",
    "tfidf_vectorizer.fit(all_texts)\n",
    "cv_tfidf = tfidf_vectorizer.transform(df_cv['lemmatized_descriptions'])\n",
    "announce_tfidf = tfidf_vectorizer.transform(df_announce['lemmatized_descriptions'])\n",
    "cv_tfidf.toarray()\n",
    "#cv_tfidf et annonce_tfidf contiennent les données textuelles vectorisées des CV et des annonces."
   ]
  },
  {
   "cell_type": "markdown",
   "id": "4068a7b4-7488-4c80-8ca7-6cb030ae162e",
   "metadata": {},
   "source": [
    "**apprentissage non supervisé** \n",
    "\n",
    "Dans l'apprentissage non supervisé, le modèle tente de découvrir des modèles dans les données sans étiquettes.\n",
    "Métrique de similarité : la similarité entre les CV et les offres d'emploi est calculée (par exemple, à l'aide des vecteurs TF-IDF et de la similarité cosinus), puis les correspondances possibles sont déduites sur la base des scores de similarité. Les paires dont les scores de similarité dépassent un certain seuil peuvent être considérées comme des correspondances."
   ]
  },
  {
   "cell_type": "code",
   "execution_count": 132,
   "id": "a511d832-8720-4b6e-a2e6-0cb77bb43c7a",
   "metadata": {},
   "outputs": [
    {
     "data": {
      "text/plain": [
       "array([[0.0970111 , 0.0970111 , 0.07043916, 0.08378189, 0.07280692,\n",
       "        0.1200369 , 0.00671984, 0.02868618, 0.04921161, 0.06561501,\n",
       "        0.0476191 , 0.05725314, 0.04734671, 0.04173296, 0.02779324,\n",
       "        0.04171383, 0.04171383, 0.04167016, 0.0455897 , 0.0334522 ],\n",
       "       [0.05009074, 0.05009074, 0.02537162, 0.09988566, 0.04842656,\n",
       "        0.01822084, 0.        , 0.01640203, 0.11790175, 0.03073687,\n",
       "        0.01032702, 0.04444659, 0.02994523, 0.07099368, 0.0173327 ,\n",
       "        0.        , 0.        , 0.        , 0.00814811, 0.03709316],\n",
       "       [0.0132504 , 0.0132504 , 0.03156253, 0.02604973, 0.04483692,\n",
       "        0.04984571, 0.09134715, 0.03240086, 0.00790221, 0.09952117,\n",
       "        0.04675481, 0.04042171, 0.04580714, 0.08783235, 0.02764755,\n",
       "        0.03334618, 0.03334618, 0.03331127, 0.02938514, 0.        ],\n",
       "       [0.0178671 , 0.0178671 , 0.04293108, 0.03508797, 0.12225196,\n",
       "        0.13455404, 0.        , 0.02834058, 0.07174586, 0.10839608,\n",
       "        0.04194809, 0.03844492, 0.05498498, 0.10303898, 0.00818103,\n",
       "        0.0441397 , 0.0441397 , 0.04409349, 0.02468401, 0.01944142],\n",
       "       [0.03014249, 0.03014249, 0.05501632, 0.03181815, 0.0450382 ,\n",
       "        0.03558389, 0.04857918, 0.04014534, 0.07569247, 0.08726421,\n",
       "        0.10362507, 0.06963965, 0.0556713 , 0.05163599, 0.0339333 ,\n",
       "        0.06538409, 0.06538409, 0.06531564, 0.06214675, 0.07919067],\n",
       "       [0.01035194, 0.01035194, 0.00769008, 0.01327271, 0.00707455,\n",
       "        0.01258348, 0.00844981, 0.01111512, 0.01991185, 0.0124735 ,\n",
       "        0.01052897, 0.02966093, 0.01913234, 0.00759887, 0.00876834,\n",
       "        0.00475086, 0.00475086, 0.00474589, 0.00771264, 0.01286015],\n",
       "       [0.00196216, 0.00196216, 0.00345529, 0.00064292, 0.0060158 ,\n",
       "        0.02635786, 0.00517812, 0.00479367, 0.00411531, 0.01419873,\n",
       "        0.00256026, 0.00223336, 0.00275101, 0.00733352, 0.02208206,\n",
       "        0.00449536, 0.00449536, 0.00449065, 0.00746234, 0.        ],\n",
       "       [0.03062278, 0.03062278, 0.02561322, 0.03512918, 0.08822252,\n",
       "        0.10330877, 0.        , 0.0551722 , 0.01940047, 0.0190919 ,\n",
       "        0.0144326 , 0.01746315, 0.02269499, 0.01029131, 0.00811949,\n",
       "        0.01806105, 0.01806105, 0.01804214, 0.0089923 , 0.0048952 ],\n",
       "       [0.02238477, 0.02238477, 0.01814934, 0.0230953 , 0.01454477,\n",
       "        0.01612379, 0.03354889, 0.01445126, 0.01955757, 0.04518673,\n",
       "        0.01938053, 0.04115784, 0.02405806, 0.03055425, 0.03940973,\n",
       "        0.02818809, 0.02818809, 0.02815858, 0.02841645, 0.05458017],\n",
       "       [0.        , 0.        , 0.        , 0.00421664, 0.00468768,\n",
       "        0.01439626, 0.00532526, 0.00229722, 0.01783584, 0.03678418,\n",
       "        0.00249419, 0.        , 0.00348772, 0.        , 0.        ,\n",
       "        0.02322065, 0.02322065, 0.02319634, 0.00179587, 0.        ]])"
      ]
     },
     "execution_count": 132,
     "metadata": {},
     "output_type": "execute_result"
    }
   ],
   "source": [
    "from sklearn.metrics.pairwise import cosine_similarity\n",
    "# Calculer la similarité cosinus entre chaque CV et chaque annonce\n",
    "cosine_sim = cosine_similarity(cv_tfidf, announce_tfidf)\n",
    "cosine_sim"
   ]
  },
  {
   "cell_type": "code",
   "execution_count": 133,
   "id": "57827097-a7b1-4aa1-9e67-7cc138e9114e",
   "metadata": {},
   "outputs": [],
   "source": [
    "def find_matches_by_threshold(cosine_sim_matrix, threshold):\n",
    "    \"\"\"\n",
    "    Trouve les paires de CV et d'annonces correspondantes en fonction du seuil spécifié.\n",
    "\n",
    "    Paramètres :\n",
    "    - cosine_sim_matrix : La matrice de similarité cosinus, où les lignes représentent les CV et les colonnes les annonces.\n",
    "    - threshold : Le seuil de score de similarité.\n",
    "\n",
    "    Retour :\n",
    "    - Une liste de paires correspondantes, chaque élément étant un tuple contenant l'index du CV et de l'annonce correspondante.\n",
    "    \"\"\"\n",
    "    matches = []   # Liste pour stocker les paires correspondantes\n",
    "    for i in range(cosine_sim_matrix.shape[0]):   # Parcourir chaque CV\n",
    "        for j in range(cosine_sim_matrix.shape[1]):  # Parcourir chaque annonce\n",
    "            if cosine_sim_matrix[i, j] > threshold:  # Si le score de similarité dépasse le seuil\n",
    "                matches.append((i, j))  # Ajouter cette paire d'indices à la liste des correspondances\n",
    "    return matches"
   ]
  },
  {
   "cell_type": "code",
   "execution_count": 134,
   "id": "59cf5685-441b-473d-b651-f3a0f3578f7d",
   "metadata": {},
   "outputs": [
    {
     "name": "stdout",
     "output_type": "stream",
     "text": [
      "Le CV 3 correspond à l'annonce 5, avec un score de similarité supérieur à 0.13\n"
     ]
    }
   ],
   "source": [
    "threshold = 0.13  # Définir le seuil\n",
    "matches = find_matches_by_threshold(cosine_sim, threshold) \n",
    "\n",
    "# Imprimer les résultats de correspondance\n",
    "for match in matches:\n",
    "    print(f\"Le CV {match[0]} correspond à l'annonce {match[1]}, avec un score de similarité supérieur à {threshold}\")"
   ]
  },
  {
   "cell_type": "code",
   "execution_count": 135,
   "id": "942ea0a4-d106-4bd2-9f03-7ccc699212cb",
   "metadata": {},
   "outputs": [
    {
     "name": "stdout",
     "output_type": "stream",
     "text": [
      "Le CV 0 correspond à l'annonce 5, avec un score de similarité supérieur à 0.12\n",
      "Le CV 3 correspond à l'annonce 4, avec un score de similarité supérieur à 0.12\n",
      "Le CV 3 correspond à l'annonce 5, avec un score de similarité supérieur à 0.12\n"
     ]
    }
   ],
   "source": [
    "threshold = 0.12  # Définir le seuil\n",
    "matches = find_matches_by_threshold(cosine_sim, threshold) \n",
    "\n",
    "# Imprimer les résultats de correspondance\n",
    "for match in matches:\n",
    "    print(f\"Le CV {match[0]} correspond à l'annonce {match[1]}, avec un score de similarité supérieur à {threshold}\")"
   ]
  },
  {
   "cell_type": "code",
   "execution_count": 136,
   "id": "05a09cc8-a6b7-4699-b88b-b14af090dae2",
   "metadata": {},
   "outputs": [
    {
     "name": "stdout",
     "output_type": "stream",
     "text": [
      "Le CV 0 correspond à l'annonce 5, avec un score de similarité supérieur à 0.11\n",
      "Le CV 1 correspond à l'annonce 8, avec un score de similarité supérieur à 0.11\n",
      "Le CV 3 correspond à l'annonce 4, avec un score de similarité supérieur à 0.11\n",
      "Le CV 3 correspond à l'annonce 5, avec un score de similarité supérieur à 0.11\n"
     ]
    }
   ],
   "source": [
    "threshold = 0.11  # Définir le seuil\n",
    "matches = find_matches_by_threshold(cosine_sim, threshold) \n",
    "\n",
    "# Imprimer les résultats de correspondance\n",
    "for match in matches:\n",
    "    print(f\"Le CV {match[0]} correspond à l'annonce {match[1]}, avec un score de similarité supérieur à {threshold}\")"
   ]
  },
  {
   "cell_type": "code",
   "execution_count": 137,
   "id": "6ace61e8-532b-4dfb-9fb2-ea045714424d",
   "metadata": {},
   "outputs": [
    {
     "name": "stdout",
     "output_type": "stream",
     "text": [
      "CVurl    https://www.linkedin.com/in/dounia-zoubid/\n",
      "Name: 3, dtype: object\n",
      "https://candidat.francetravail.fr/offres/recherche/detail/171CSBM\n",
      "https://candidat.francetravail.fr/offres/recherche/detail/171CNFX\n",
      "https://candidat.francetravail.fr/offres/recherche/detail/171WVYL\n"
     ]
    }
   ],
   "source": [
    "print(cvUrls.iloc[3])\n",
    "print(anounce['OffreUrl'].iloc[4])\n",
    "print(anounce['OffreUrl'].iloc[5])\n",
    "print(anounce['OffreUrl'].iloc[9])"
   ]
  },
  {
   "cell_type": "markdown",
   "id": "6e05098c-396f-44f9-ae79-761665bca97b",
   "metadata": {},
   "source": [
    "On a conçu un modèle d'apprentissage profond utilisant des réseaux siamois pour évaluer la similarité entre les CV et les annonces de recrutement. Les vecteurs TF-IDF des CV et des annonces servaient d'entrée au modèle, qui était entraîné à minimiser une fonction de perte basée sur la distance euclidienne entre les paires de vecteurs.\n"
   ]
  },
  {
   "cell_type": "code",
   "execution_count": 138,
   "id": "ffbefed9-9e0d-4d1f-9767-722b659593d6",
   "metadata": {},
   "outputs": [
    {
     "name": "stdout",
     "output_type": "stream",
     "text": [
      "[1. 1. 1. 1. 1. 1. 1. 1. 1. 1. 1. 1. 1. 1. 1. 1. 1. 1. 1. 1. 1. 1. 1. 1.\n",
      " 1. 0. 0. 0. 0. 0. 0. 0. 0. 0. 0. 0. 0. 0. 0. 0.]\n",
      "[(0, 2), (0, 3), (0, 5), (0, 6), (0, 13), (0, 14), (1, 2), (1, 3), (1, 5), (1, 6), (1, 13), (1, 14), (2, 0), (2, 1), (2, 4), (2, 8), (2, 9), (2, 10), (2, 12), (3, 0), (3, 1), (3, 4), (3, 5), (3, 8), (3, 9), (6, 10), (6, 12), (6, 19), (7, 2), (7, 3), (7, 5), (7, 6), (7, 13), (7, 14), (9, 7), (9, 15), (9, 16), (9, 17), (9, 18), (9, 19)]\n"
     ]
    }
   ],
   "source": [
    "import numpy as np\n",
    "pairs_index = []\n",
    "for i in range(len(df_cv)):\n",
    "    for j in range(len(df_announce)):\n",
    "        # Supposons que plus les exigences en matière d'expérience du CV et de l'offre d'emploi sont proches, plus il y a de chances qu'elles correspondent.\n",
    "        if abs(df_cv.iloc[i]['total_experience_months(mois)'] - df_announce.iloc[j]['ExperienceRequirements(mois)']) <= 12:\n",
    "            pairs_index.append((i, j))\n",
    "\n",
    "X1_train = np.array([cv_tfidf[i].toarray() for i, _ in pairs_index])\n",
    "X2_train = np.array([announce_tfidf[j].toarray() for _, j in pairs_index])\n",
    "\n",
    "cv_indices = [i for i, _ in pairs_index]\n",
    "announce_indices = [j for _, j in pairs_index]\n",
    "# Ensuite, sélectionner toutes les lignes en une fois et les convertir en un tableau dense\n",
    "X1_train = cv_tfidf[cv_indices].toarray()\n",
    "X2_train = announce_tfidf[announce_indices].toarray()\n",
    "# Initialiser y_train à tout 1, supposant que toutes les paires soient initialement considérées comme des correspondances\n",
    "y_train = np.ones(len(pairs_index))\n",
    "# Définir des labels non correspondants selon des règles\n",
    "for index, pair in enumerate(pairs_index):\n",
    "    if pair[0] in [6, 7, 9]:\n",
    "        y_train[index] = 0\n",
    "print(y_train)\n",
    "print(pairs_index)\n",
    "# print(X1_train)\n",
    "# print(X2_train)"
   ]
  },
  {
   "cell_type": "code",
   "execution_count": 139,
   "id": "16e7bd09-5372-4286-8b0a-fcae2810233a",
   "metadata": {},
   "outputs": [],
   "source": [
    "from tensorflow.keras.callbacks import EarlyStopping\n",
    "### Usual callback for training deep learning model\n",
    "# It is important to use early stopping systematically\n",
    "callbacks_list = [EarlyStopping(monitor='val_accuracy', mode='max',\n",
    "                                patience=patience,\n",
    "                                restore_best_weights=True)]"
   ]
  },
  {
   "cell_type": "code",
   "execution_count": 150,
   "id": "28e3ea2d-74bb-4f19-b1ff-1cf9dc6d5cea",
   "metadata": {},
   "outputs": [
    {
     "name": "stdout",
     "output_type": "stream",
     "text": [
      "Epoch 1/10\n",
      "1/2 [==============>...............] - ETA: 0s - loss: 0.4872 - accuracy: 0.4375WARNING:tensorflow:Early stopping conditioned on metric `val_accuracy` which is not available. Available metrics are: loss,accuracy\n",
      "2/2 [==============================] - 1s 9ms/step - loss: 0.5251 - accuracy: 0.3750\n",
      "Epoch 2/10\n",
      "1/2 [==============>...............] - ETA: 0s - loss: 0.4330 - accuracy: 0.3750WARNING:tensorflow:Early stopping conditioned on metric `val_accuracy` which is not available. Available metrics are: loss,accuracy\n",
      "2/2 [==============================] - 0s 15ms/step - loss: 0.4235 - accuracy: 0.3750\n",
      "Epoch 3/10\n",
      "1/2 [==============>...............] - ETA: 0s - loss: 0.3033 - accuracy: 0.4375WARNING:tensorflow:Early stopping conditioned on metric `val_accuracy` which is not available. Available metrics are: loss,accuracy\n",
      "2/2 [==============================] - 0s 14ms/step - loss: 0.3266 - accuracy: 0.3750\n",
      "Epoch 4/10\n",
      "1/2 [==============>...............] - ETA: 0s - loss: 0.2569 - accuracy: 0.3750WARNING:tensorflow:Early stopping conditioned on metric `val_accuracy` which is not available. Available metrics are: loss,accuracy\n",
      "2/2 [==============================] - 0s 12ms/step - loss: 0.2431 - accuracy: 0.4250\n",
      "Epoch 5/10\n",
      "1/2 [==============>...............] - ETA: 0s - loss: 0.1787 - accuracy: 0.6250WARNING:tensorflow:Early stopping conditioned on metric `val_accuracy` which is not available. Available metrics are: loss,accuracy\n",
      "2/2 [==============================] - 0s 14ms/step - loss: 0.1630 - accuracy: 0.6750\n",
      "Epoch 6/10\n",
      "1/2 [==============>...............] - ETA: 0s - loss: 0.0960 - accuracy: 0.9062WARNING:tensorflow:Early stopping conditioned on metric `val_accuracy` which is not available. Available metrics are: loss,accuracy\n",
      "2/2 [==============================] - 0s 13ms/step - loss: 0.0940 - accuracy: 0.9250\n",
      "Epoch 7/10\n",
      "1/2 [==============>...............] - ETA: 0s - loss: 0.0509 - accuracy: 1.0000WARNING:tensorflow:Early stopping conditioned on metric `val_accuracy` which is not available. Available metrics are: loss,accuracy\n",
      "2/2 [==============================] - 0s 12ms/step - loss: 0.0541 - accuracy: 1.0000\n",
      "Epoch 8/10\n",
      "1/2 [==============>...............] - ETA: 0s - loss: 0.0354 - accuracy: 1.0000WARNING:tensorflow:Early stopping conditioned on metric `val_accuracy` which is not available. Available metrics are: loss,accuracy\n",
      "2/2 [==============================] - 0s 13ms/step - loss: 0.0390 - accuracy: 1.0000\n",
      "Epoch 9/10\n",
      "1/2 [==============>...............] - ETA: 0s - loss: 0.0332 - accuracy: 1.0000WARNING:tensorflow:Early stopping conditioned on metric `val_accuracy` which is not available. Available metrics are: loss,accuracy\n",
      "2/2 [==============================] - 0s 11ms/step - loss: 0.0450 - accuracy: 1.0000\n",
      "Epoch 10/10\n",
      "1/2 [==============>...............] - ETA: 0s - loss: 0.0556 - accuracy: 1.0000WARNING:tensorflow:Early stopping conditioned on metric `val_accuracy` which is not available. Available metrics are: loss,accuracy\n",
      "2/2 [==============================] - 0s 9ms/step - loss: 0.0472 - accuracy: 1.0000\n"
     ]
    }
   ],
   "source": [
    "from tensorflow.keras.models import Model\n",
    "from tensorflow.keras.layers import Input, Dense, Lambda\n",
    "from tensorflow.keras.optimizers import Adam\n",
    "import tensorflow as tf\n",
    "\n",
    "def euclidean_distance(vects):\n",
    "    x, y = vects\n",
    "    return tf.sqrt(tf.reduce_sum(tf.square(x - y), axis=1, keepdims=True))\n",
    "\n",
    "def create_base_network(input_shape):\n",
    "    '''Construire le réseau de base pour l'extraction des caractéristiques.'''\n",
    "    input = Input(shape=input_shape)\n",
    "    x = Dense(128, activation='relu')(input)\n",
    "    x = Dense(64, activation='relu')(x)\n",
    "    x = Dense(32, activation='relu')(x)\n",
    "    return Model(input, x)\n",
    "# Dimension des caractéristiques d'entrée\n",
    "input_shape = [cv_tfidf.shape[1]]  \n",
    "\n",
    "# Création du réseau de base\n",
    "base_network = create_base_network(input_shape)\n",
    "\n",
    "# Traitement des deux entrées\n",
    "input_a = Input(shape=input_shape)\n",
    "input_b = Input(shape=input_shape)\n",
    "\n",
    "processed_a = base_network(input_a)\n",
    "processed_b = base_network(input_b)\n",
    "\n",
    "# Utilisation de la couche Lambda pour calculer la distance euclidienne\n",
    "distance = Lambda(euclidean_distance)([processed_a, processed_b])\n",
    "\n",
    "model = Model([input_a, input_b], distance)\n",
    "model.compile(optimizer=Adam(), loss='mean_squared_error',metrics=['accuracy'])\n",
    "\n",
    "# X1_train = np.squeeze(X1_train, axis=1)\n",
    "# X2_train = np.squeeze(X2_train, axis=1)\n",
    "# Formation du modèle ，préparer les données d'entrée et les étiquettes\n",
    "history =model.fit([X1_train, X2_train], y_train, epochs=10, batch_size=32,callbacks=callbacks_list)"
   ]
  },
  {
   "cell_type": "code",
   "execution_count": 151,
   "id": "65b3372b-ce6a-4885-8b2e-ffc03f7e4ddd",
   "metadata": {},
   "outputs": [
    {
     "data": {
      "image/png": "[encoded data removed]",
      "text/plain": [
       "<Figure size 1800x500 with 2 Axes>"
      ]
     },
     "metadata": {},
     "output_type": "display_data"
    }
   ],
   "source": [
    "### Usual function for babysit the network\n",
    "# It is important to systematically observe the learning curves\n",
    "def babysit(history):\n",
    "    keys = [key for key in history.keys() if key[:4] != \"val_\"]\n",
    "    if len(keys) == 1:  # If there's only one metric apart from its validation metric\n",
    "        fig, ax = plt.subplots(figsize=(18, 5))\n",
    "        ax = [ax]  # Make it a list so the indexing works as intended\n",
    "    else:\n",
    "        fig, ax = plt.subplots(nrows=1, ncols=len(keys), figsize=(18, 5))\n",
    "    for i, key in enumerate(keys):\n",
    "        ax[i].plot(history[key], label=key)\n",
    "        if \"val_\" + key in history.keys():\n",
    "            ax[i].plot(history[\"val_\" + key], label=\"val_\" + key)\n",
    "        ax[i].legend()\n",
    "        ax[i].set_title(key)\n",
    "    plt.show()\n",
    "babysit(history.history)"
   ]
  },
  {
   "cell_type": "code",
   "execution_count": 152,
   "id": "e84eb203-f632-47ad-af79-5cb92217ab7c",
   "metadata": {},
   "outputs": [
    {
     "name": "stdout",
     "output_type": "stream",
     "text": [
      "(40, 1880)\n",
      "(40, 1880)\n"
     ]
    }
   ],
   "source": [
    "print(X1_train.shape)\n",
    "print(X2_train.shape)"
   ]
  },
  {
   "cell_type": "code",
   "execution_count": 153,
   "id": "0632dad9-2c2b-404c-8fd8-264a3014ce96",
   "metadata": {},
   "outputs": [
    {
     "name": "stdout",
     "output_type": "stream",
     "text": [
      "2/2 [==============================] - 0s 8ms/step - loss: 0.0407 - accuracy: 1.0000\n",
      "2/2 [==============================] - 0s 5ms/step\n",
      "Accuracy: 0.95\n",
      "Precision: 0.9259259259259259\n",
      "Recall: 1.0\n"
     ]
    }
   ],
   "source": [
    "# Calcul de la perte sur le jeu de données d'entraînement\n",
    "test_loss = model.evaluate([X1_train, X2_train], y_train)\n",
    "\n",
    "predictions = model.predict([X1_train, X2_train])\n",
    "# Décision des étiquettes prédites basée sur un seuil (ici 0.11 comme exemple)\n",
    "predicted_labels = predictions > 0.3\n",
    "# Calcul des métriques de performance\n",
    "from sklearn.metrics import accuracy_score, precision_score, recall_score\n",
    "print(\"Accuracy:\", accuracy_score(y_train, predicted_labels))\n",
    "print(\"Precision:\", precision_score(y_train, predicted_labels))\n",
    "print(\"Recall:\", recall_score(y_train, predicted_labels))"
   ]
  },
  {
   "cell_type": "code",
   "execution_count": 144,
   "id": "c66de2dc-eca0-4bab-bc28-c40c10072600",
   "metadata": {},
   "outputs": [
    {
     "name": "stdout",
     "output_type": "stream",
     "text": [
      "Pair 0: Score = 0.9998115301132202.(0, 2)\n",
      "Pair 1: Score = 0.9998291730880737.(0, 3)\n",
      "Pair 2: Score = 1.0002803802490234.(0, 5)\n",
      "Pair 3: Score = 0.9999209046363831.(0, 6)\n",
      "Pair 4: Score = 0.9998841285705566.(0, 13)\n",
      "Pair 5: Score = 0.9999638199806213.(0, 14)\n",
      "Pair 6: Score = 0.9996518492698669.(1, 2)\n",
      "Pair 7: Score = 0.9997951984405518.(1, 3)\n",
      "Pair 8: Score = 1.000178575515747.(1, 5)\n",
      "Pair 9: Score = 0.9998635053634644.(1, 6)\n",
      "Pair 10: Score = 0.9997494220733643.(1, 13)\n",
      "Pair 11: Score = 0.9999068379402161.(1, 14)\n",
      "Pair 12: Score = 0.9998424649238586.(2, 0)\n",
      "Pair 13: Score = 0.9998424649238586.(2, 1)\n",
      "Pair 14: Score = 0.9999663829803467.(2, 4)\n",
      "Pair 15: Score = 0.9999745488166809.(2, 8)\n",
      "Pair 16: Score = 0.9998281002044678.(2, 9)\n",
      "Pair 17: Score = 0.9999380707740784.(2, 10)\n",
      "Pair 18: Score = 1.0000066757202148.(2, 12)\n",
      "Pair 19: Score = 0.9998120665550232.(3, 0)\n",
      "Pair 20: Score = 0.9998120665550232.(3, 1)\n",
      "Pair 21: Score = 0.9995594024658203.(3, 4)\n",
      "Pair 22: Score = 0.9986322522163391.(3, 5)\n",
      "Pair 23: Score = 0.9999207854270935.(3, 8)\n",
      "Pair 24: Score = 1.0000536441802979.(3, 9)\n",
      "Pair 25: Score = 0.0011692657135426998.(6, 10)\n",
      "Pair 26: Score = 0.0004082217055838555.(6, 12)\n",
      "Pair 27: Score = 0.00199822336435318.(6, 19)\n",
      "Pair 28: Score = 0.003569087479263544.(7, 2)\n",
      "Pair 29: Score = 0.0030750236473977566.(7, 3)\n",
      "Pair 30: Score = 0.0012854015221819282.(7, 5)\n",
      "Pair 31: Score = 0.0016240010736510158.(7, 6)\n",
      "Pair 32: Score = 0.0008862518006935716.(7, 13)\n",
      "Pair 33: Score = 0.002112314570695162.(7, 14)\n",
      "Pair 34: Score = 0.004652950447052717.(9, 7)\n",
      "Pair 35: Score = 0.0027123959735035896.(9, 15)\n",
      "Pair 36: Score = 0.0027123959735035896.(9, 16)\n",
      "Pair 37: Score = 0.002704381477087736.(9, 17)\n",
      "Pair 38: Score = 0.032256536185741425.(9, 18)\n",
      "Pair 39: Score = 0.0039569609798491.(9, 19)\n"
     ]
    }
   ],
   "source": [
    "for i, score in enumerate(predictions.flatten()):\n",
    "    print(f\"Pair {i}: Score = {score}.{pairs_index[i]}\")"
   ]
  },
  {
   "cell_type": "code",
   "execution_count": 154,
   "id": "0152530b-5631-48e8-9c52-0c5d8ea4c617",
   "metadata": {},
   "outputs": [
    {
     "data": {
      "image/png": "[encoded data removed]",
      "text/plain": [
       "<Figure size 1000x800 with 2 Axes>"
      ]
     },
     "metadata": {},
     "output_type": "display_data"
    }
   ],
   "source": [
    "# Aplatir les prédictions et obtenir les indices des paires correspondantes\n",
    "predictions_aplaties = predictions.flatten()\n",
    "indices_paires = pairs_index\n",
    "\n",
    "# Créer une matrice vide pour les scores de similarité\n",
    "matrice_scores = np.zeros((len(df_cv), len(df_announce)))\n",
    "\n",
    "# Remplir la matrice avec les scores prédits\n",
    "for i, (index_cv, index_annonce) in enumerate(indices_paires):\n",
    "    score = predictions_aplaties[i]\n",
    "    matrice_scores[index_cv, index_annonce] = score\n",
    "\n",
    "# Afficher la heatmap pour visualiser la similarité entre chaque CV et chaque annonce d'emploi\n",
    "plt.figure(figsize=(10, 8))\n",
    "sns.heatmap(matrice_scores, annot=True, fmt=\".2f\", cmap=\"YlGnBu\")\n",
    "plt.title('Prédiction de similarité entre les CVs et les annonces d’emploi')\n",
    "plt.xlabel('Indice d’annonce d’emploi')\n",
    "plt.ylabel('Indice de CV')\n",
    "plt.show()"
   ]
  },
  {
   "cell_type": "code",
   "execution_count": null,
   "id": "4bf836a0-f889-45b4-a617-01a67857572e",
   "metadata": {},
   "outputs": [],
   "source": []
  }
 ],
 "metadata": {
  "kernelspec": {
   "display_name": "Python 3 (ipykernel)",
   "language": "python",
   "name": "python3"
  },
  "language_info": {
   "codemirror_mode": {
    "name": "ipython",
    "version": 3
   },
   "file_extension": ".py",
   "mimetype": "text/x-python",
   "name": "python",
   "nbconvert_exporter": "python",
   "pygments_lexer": "ipython3",
   "version": "3.10.9"
  }
 },
 "nbformat": 4,
 "nbformat_minor": 5
}
